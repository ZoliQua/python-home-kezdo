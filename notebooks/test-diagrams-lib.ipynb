{
 "cells": [
  {
   "cell_type": "code",
   "execution_count": null,
   "metadata": {},
   "outputs": [],
   "source": [
    "#\n",
    "# Testing Diagrams lib\n",
    "#\n",
    "# SOURCE is based on a medium article\n",
    "# URL: https://betterprogramming.pub/diagrams-diagram-as-code-56fec222cdf6\n",
    "#\n",
    "# TECH SPECS:\n",
    "# Install this lib: https://diagrams.mingrammer.com/docs/getting-started/installation\n",
    "# Basics: https://diagrams.mingrammer.com/docs/guides/diagram\n",
    "# GitHub Repo: https://github.com/mingrammer/diagrams/tree/master/diagrams\n",
    "#"
   ]
  },
  {
   "cell_type": "code",
   "execution_count": 1,
   "metadata": {},
   "outputs": [],
   "source": [
    "from diagrams import Diagram\n",
    "from diagrams.aws.compute import EC2\n",
    "from diagrams.aws.database import RDS\n",
    "from diagrams.aws.network import ELB\n",
    "with Diagram(\"Grouped Workers\", show=False, direction=\"TB\"):\n",
    "    ELB(\"lb\") >> [EC2(\"worker1\"),      \n",
    "                  EC2(\"worker2\"), \n",
    "                  EC2(\"worker3\"), \n",
    "                  EC2(\"worker4\"),               \n",
    "                  EC2(\"worker5\")] >> RDS(\"events\")"
   ]
  },
  {
   "cell_type": "code",
   "execution_count": 3,
   "metadata": {},
   "outputs": [],
   "source": [
    "\n",
    "from diagrams import Cluster, Diagram\n",
    "from diagrams.aws.compute import ECS, EKS, Lambda\n",
    "from diagrams.aws.database import Redshift \n",
    "from diagrams.aws.integration import SQS \n",
    "from diagrams.aws.storage import S3  \n",
    "\n",
    "with Diagram(\"Event Processing\", show=False):   \n",
    "    source = EKS(\"k8s source\")      \n",
    "    with Cluster(\"Event Flows\"):        \n",
    "        with Cluster(\"Event Workers\"):          \n",
    "            workers = [ECS(\"worker1\"),   \n",
    "                       ECS(\"worker2\"),\n",
    "                       ECS(\"worker3\")]\n",
    "        queue = SQS(\"event queue\")  \n",
    "        with Cluster(\"Processing\"):       \n",
    "            handlers = [Lambda(\"proc1\"),                             \n",
    "                        Lambda(\"proc2\"),                      \n",
    "                        Lambda(\"proc3\")]     \n",
    "    store = S3(\"events store\")    \n",
    "    dw = Redshift(\"analytics\")     \n",
    " \n",
    "    source >> workers >> queue >> handlers  \n",
    "    handlers >> store \n",
    "    handlers >> dw"
   ]
  },
  {
   "cell_type": "code",
   "execution_count": null,
   "metadata": {},
   "outputs": [],
   "source": []
  }
 ],
 "metadata": {
  "kernelspec": {
   "display_name": "Python 3",
   "language": "python",
   "name": "python3"
  },
  "language_info": {
   "codemirror_mode": {
    "name": "ipython",
    "version": 3
   },
   "file_extension": ".py",
   "mimetype": "text/x-python",
   "name": "python",
   "nbconvert_exporter": "python",
   "pygments_lexer": "ipython3",
   "version": "3.8.5"
  }
 },
 "nbformat": 4,
 "nbformat_minor": 4
}
