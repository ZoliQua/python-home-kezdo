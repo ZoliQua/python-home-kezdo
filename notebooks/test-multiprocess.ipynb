{
 "cells": [
  {
   "cell_type": "code",
   "execution_count": 3,
   "metadata": {},
   "outputs": [],
   "source": [
    "# in a file called main.py (your main script)\n",
    "# you might call some function such as pandas\n",
    "import pandas as pd\n",
    "# you might import custom functions from other files\n",
    "# the file might be called helper.py\n",
    "from helper import forecasting as fc\n",
    "# everything you do, call from inside this module\n",
    "\n",
    "if __name__ == '__main__':\n",
    "  \n",
    "  # lists\n",
    "  a=[5,4,7,2,8]\n",
    "  b=[8,0,3,2,6]\n",
    "  c=[2,1,9,7,3]\n",
    "  d=[6,8,0,4,4]\n",
    "  # a list of lists\n",
    "  a_list = [a,b,c,d]\n",
    "  \n",
    "  # an empty list to hold results\n",
    "  results = []\n",
    "  # iterate through the list\n",
    "  for i in a_list:\n",
    "    # do something to the i-th object   \n",
    "    res = fc(i)\n",
    "    # append results\n",
    "    results.append(res)\n",
    "# the result is a list of numbers"
   ]
  },
  {
   "cell_type": "code",
   "execution_count": null,
   "metadata": {},
   "outputs": [],
   "source": []
  }
 ],
 "metadata": {
  "kernelspec": {
   "display_name": "Python 3",
   "language": "python",
   "name": "python3"
  },
  "language_info": {
   "codemirror_mode": {
    "name": "ipython",
    "version": 3
   },
   "file_extension": ".py",
   "mimetype": "text/x-python",
   "name": "python",
   "nbconvert_exporter": "python",
   "pygments_lexer": "ipython3",
   "version": "3.8.5"
  }
 },
 "nbformat": 4,
 "nbformat_minor": 4
}
