{
 "cells": [
  {
   "cell_type": "code",
   "execution_count": 4,
   "id": "bf881988-6767-4517-9628-7a86e67e775a",
   "metadata": {},
   "outputs": [
    {
     "name": "stdout",
     "output_type": "stream",
     "text": [
      "[{'name': 'Anna', 'grade': 85}, {'name': 'Béla', 'grade': 92}]\n"
     ]
    }
   ],
   "source": [
    "students = [{'name': 'Anna', 'grade': 85}, {'name': 'Béla', 'grade': 92}]\n",
    "sorted_students = sorted(students, key=lambda x: x['grade'])\n",
    "print(sorted_students)\n",
    "# x itt egy dictionary"
   ]
  },
  {
   "cell_type": "code",
   "execution_count": null,
   "id": "6434187e-0d66-437c-a557-c7745ea20647",
   "metadata": {},
   "outputs": [],
   "source": []
  }
 ],
 "metadata": {
  "kernelspec": {
   "display_name": "Python 3 (ipykernel)",
   "language": "python",
   "name": "python3"
  },
  "language_info": {
   "codemirror_mode": {
    "name": "ipython",
    "version": 3
   },
   "file_extension": ".py",
   "mimetype": "text/x-python",
   "name": "python",
   "nbconvert_exporter": "python",
   "pygments_lexer": "ipython3",
   "version": "3.11.13"
  }
 },
 "nbformat": 4,
 "nbformat_minor": 5
}
